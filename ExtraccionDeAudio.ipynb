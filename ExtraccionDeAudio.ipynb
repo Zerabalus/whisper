{
  "nbformat": 4,
  "nbformat_minor": 0,
  "metadata": {
    "colab": {
      "provenance": [],
      "gpuType": "T4",
      "authorship_tag": "ABX9TyNRNRL8mh/B1KgOyaKMsF8e"
    },
    "kernelspec": {
      "name": "python3",
      "display_name": "Python 3"
    },
    "language_info": {
      "name": "python"
    },
    "accelerator": "GPU"
  },
  "cells": [
    {
      "cell_type": "markdown",
      "source": [
        "# Recursos:"
      ],
      "metadata": {
        "id": "swgqT_6QdlQ5"
      }
    },
    {
      "cell_type": "code",
      "source": [
        "pip install openai-whisper"
      ],
      "metadata": {
        "colab": {
          "base_uri": "https://localhost:8080/"
        },
        "id": "U0xNJOQBQcI6",
        "outputId": "b323b801-931a-49de-ab27-6392e82db41f"
      },
      "execution_count": null,
      "outputs": [
        {
          "output_type": "stream",
          "name": "stdout",
          "text": [
            "Collecting openai-whisper\n",
            "  Downloading openai-whisper-20240930.tar.gz (800 kB)\n",
            "\u001b[?25l     \u001b[90m━━━━━━━━━━━━━━━━━━━━━━━━━━━━━━━━━━━━━━━━\u001b[0m \u001b[32m0.0/800.5 kB\u001b[0m \u001b[31m?\u001b[0m eta \u001b[36m-:--:--\u001b[0m\r\u001b[2K     \u001b[91m━━━━━━━━━\u001b[0m\u001b[90m╺\u001b[0m\u001b[90m━━━━━━━━━━━━━━━━━━━━━━━━━━━━━\u001b[0m \u001b[32m194.6/800.5 kB\u001b[0m \u001b[31m5.6 MB/s\u001b[0m eta \u001b[36m0:00:01\u001b[0m\r\u001b[2K     \u001b[91m━━━━━━━━━━━━━━━━━━━━━━━━━━━━━━━━━━━━━\u001b[0m\u001b[91m╸\u001b[0m \u001b[32m798.7/800.5 kB\u001b[0m \u001b[31m12.2 MB/s\u001b[0m eta \u001b[36m0:00:01\u001b[0m\r\u001b[2K     \u001b[90m━━━━━━━━━━━━━━━━━━━━━━━━━━━━━━━━━━━━━━━\u001b[0m \u001b[32m800.5/800.5 kB\u001b[0m \u001b[31m9.0 MB/s\u001b[0m eta \u001b[36m0:00:00\u001b[0m\n",
            "\u001b[?25h"
          ]
        }
      ]
    },
    {
      "cell_type": "code",
      "source": [
        "pip install yt_dlp"
      ],
      "metadata": {
        "id": "QdHlBZw7QpKN"
      },
      "execution_count": null,
      "outputs": []
    },
    {
      "cell_type": "markdown",
      "source": [
        "# Programa"
      ],
      "metadata": {
        "id": "x7RmcTRad8LB"
      }
    },
    {
      "cell_type": "code",
      "execution_count": null,
      "metadata": {
        "id": "YHo_41gVQP9B"
      },
      "outputs": [],
      "source": [
        "import whisper\n",
        "import yt_dlp\n",
        "\n",
        "def download_audio(youtube_url):\n",
        "    ydl_opts = {\n",
        "        'format': 'bestaudio/best',\n",
        "        'postprocessors': [{\n",
        "            'key': 'FFmpegExtractAudio',\n",
        "            'preferredcodec': 'mp3',\n",
        "            'preferredquality': '192',\n",
        "        }],\n",
        "        'outtmpl': 'audio',  # Outputs a \"audio.mp3\"\n",
        "    }\n",
        "    with yt_dlp.YoutubeDL(ydl_opts) as ydl:\n",
        "        ydl.download([youtube_url])\n",
        "    return 'audio.mp3'\n",
        "\n",
        "def transcribe_audio(audio_file):\n",
        "    model = whisper.load_model(\"medium\")  # medium para mejor calidad pero puede ser small o base\n",
        "    result = model.transcribe(audio_file)\n",
        "    return result[\"text\"]\n",
        "\n",
        "# Reemplazar la url de yt\n",
        "youtube_url = \"url acá\"\n",
        "audio_file = download_audio(youtube_url)\n",
        "transcription = transcribe_audio(audio_file)\n",
        "\n",
        "# Salvar a un archivo\n",
        "with open(\"transcripcion.txt\", \"w\", encoding=\"utf-8\") as f:\n",
        "    f.write(transcription)\n",
        "\n",
        "print(\"Transcripción guardada como 'transcripcion.txt'!\")"
      ]
    }
  ]
}